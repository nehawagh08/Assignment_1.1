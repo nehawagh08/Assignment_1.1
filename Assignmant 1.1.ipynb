{
 "cells": [
  {
   "cell_type": "markdown",
   "id": "3d968800",
   "metadata": {},
   "source": [
    "Find and read 20 interview questions for Data Types, Operators, Conditional Statements, Looping Statements, Functions."
   ]
  },
  {
   "cell_type": "code",
   "execution_count": 3,
   "id": "5d1218e6",
   "metadata": {},
   "outputs": [
    {
     "name": "stdout",
     "output_type": "stream",
     "text": [
      "1 2 3 4 5 5\n",
      "5 5 4 3 2 1 "
     ]
    }
   ],
   "source": [
    "#1 Reverse elements in an array \n",
    "a=list(map(int,input().split()))\n",
    "for i in range(len(a)-1,-1,-1):\n",
    "    print(a[i],end=\" \") "
   ]
  },
  {
   "cell_type": "code",
   "execution_count": 5,
   "id": "61a92d2f",
   "metadata": {},
   "outputs": [
    {
     "name": "stdout",
     "output_type": "stream",
     "text": [
      "5\n",
      "* \n",
      "* * \n",
      "* * * \n",
      "* * * * \n",
      "* * * * * \n"
     ]
    }
   ],
   "source": [
    "'''\n",
    "* \n",
    "* * \n",
    "* * * \n",
    "* * * * \n",
    "* * * * * \n",
    "2 Draw the following pattern\n",
    "'''\n",
    "n=int(input())\n",
    "for i in range(n):\n",
    "    for j in range(i+1):\n",
    "        print(\"*\",end=\" \")\n",
    "    print() "
   ]
  },
  {
   "cell_type": "code",
   "execution_count": 6,
   "id": "f0096f7b",
   "metadata": {},
   "outputs": [
    {
     "name": "stdout",
     "output_type": "stream",
     "text": [
      "Hello this is java programming\n",
      "Hello\n",
      "programming\n"
     ]
    }
   ],
   "source": [
    "#3 Find the words in string which have same consecutive letters for example: ll ,aa, etc\n",
    "st=input()\n",
    "st=st.split(\" \")\n",
    "for string in st:\n",
    "    for j in range(len(string)-1):\n",
    "        if string[j]==string[j+1]:\n",
    "            print(string)"
   ]
  },
  {
   "cell_type": "code",
   "execution_count": 7,
   "id": "7f074ddd",
   "metadata": {},
   "outputs": [
    {
     "name": "stdout",
     "output_type": "stream",
     "text": [
      "0 1 1 2 3 5 8 13 21 34 55 89 "
     ]
    }
   ],
   "source": [
    "#4 find fibonaccie series between 1 to 100\n",
    "a1=0\n",
    "a2=1\n",
    "a3=a1+a2\n",
    "print(a1,a2,end=\" \")\n",
    "while(a3<=100):\n",
    "    print(a3,end=\" \")\n",
    "    a1=a2\n",
    "    a2=a3\n",
    "    a3=a1+a2"
   ]
  },
  {
   "cell_type": "code",
   "execution_count": 8,
   "id": "2e2e1996",
   "metadata": {},
   "outputs": [
    {
     "name": "stdout",
     "output_type": "stream",
     "text": [
      "371\n",
      "yes\n"
     ]
    }
   ],
   "source": [
    "#5 check whether number is armstrong or not\n",
    "n=int(input())\n",
    "final=0\n",
    "temp=n\n",
    "while temp!=0:\n",
    "    r=temp%10\n",
    "    final=final+r**3\n",
    "    temp=temp//10\n",
    "if final==n:\n",
    "    print('yes')\n",
    "else:\n",
    "    print('no') "
   ]
  },
  {
   "cell_type": "code",
   "execution_count": 20,
   "id": "dec7fdf1",
   "metadata": {},
   "outputs": [
    {
     "name": "stdout",
     "output_type": "stream",
     "text": [
      "Neha vaishnavi jayashri nisha\n",
      "['Neha', 'nisha', 'jayashri', 'vaishnavi']\n"
     ]
    }
   ],
   "source": [
    "#6 sort the words in array based on length without using inbuilt function\n",
    "l=list(input().split())\n",
    "for i in range(len(l)):\n",
    "    for j in range(0,len(l)-i-1):\n",
    "        if len(l[j])>len(l[j+1]):\n",
    "            temp=l[j]\n",
    "            l[j]=l[j+1]\n",
    "            l[j+1]=temp\n",
    "print(l)"
   ]
  },
  {
   "cell_type": "code",
   "execution_count": 2,
   "id": "157c9518",
   "metadata": {},
   "outputs": [
    {
     "name": "stdout",
     "output_type": "stream",
     "text": [
      "5\n",
      "Factorial of 5 is 120\n"
     ]
    }
   ],
   "source": [
    "#7 Find Factorial of a number\n",
    "num = int(input())\n",
    "fact = 1\n",
    "if num < 0:\n",
    "    print(\"Not Possible\")\n",
    "else:\n",
    "    for i in range(1, num+1):\n",
    "        fact = fact * i\n",
    "print(\"Factorial of\", num, \"is\", fact)"
   ]
  },
  {
   "cell_type": "code",
   "execution_count": 4,
   "id": "ddabc080",
   "metadata": {},
   "outputs": [
    {
     "name": "stdout",
     "output_type": "stream",
     "text": [
      "121\n",
      "Number is pallindrome\n"
     ]
    }
   ],
   "source": [
    "#8 Check Whether or Not the Number is a Palindrome in Python\n",
    "n=int(input())\n",
    "temp=n\n",
    "res=0\n",
    "while temp!=0:\n",
    "    r=temp%10\n",
    "    res=res*10+r\n",
    "    temp=temp//10\n",
    "if n==res:\n",
    "    print(\"Number is pallindrome\")\n",
    "else:\n",
    "    print(\"number is not pallindrome\")"
   ]
  },
  {
   "cell_type": "code",
   "execution_count": 9,
   "id": "c592c056",
   "metadata": {},
   "outputs": [
    {
     "name": "stdout",
     "output_type": "stream",
     "text": [
      "10\n",
      "20\n",
      "Before swapping:\n",
      "n1: 10 n2: 20\n",
      "20 10\n",
      "After swapping:\n",
      "n1: 20 n2: 10\n"
     ]
    }
   ],
   "source": [
    "#9 Swap the numbers without using third vairable\n",
    "n1=int(input())\n",
    "n2=int(input())\n",
    "print(\"Before swapping:\")\n",
    "print(\"n1:\",n1,\"n2:\",n2)\n",
    "n1=n1+n2\n",
    "n2=n1-n2\n",
    "n1=n1-n2\n",
    "print(n1,n2)\n",
    "print(\"After swapping:\")\n",
    "print(\"n1:\",n1,\"n2:\",n2)"
   ]
  },
  {
   "cell_type": "code",
   "execution_count": 12,
   "id": "74af5134",
   "metadata": {},
   "outputs": [
    {
     "name": "stdout",
     "output_type": "stream",
     "text": [
      "The factorials of a number are: \n",
      "100\n",
      "1 2 4 5 10 20 25 50 100 "
     ]
    }
   ],
   "source": [
    "#10 Find the factors of a number\n",
    "def printDivisors(n) :\n",
    "    i = 1\n",
    "    while i <= n :\n",
    "        if (n % i==0) :\n",
    "            print (i,end=\" \")\n",
    "        i = i + 1\n",
    "\n",
    "print (\"The factorials of a number are: \")\n",
    "printDivisors(int(input()))"
   ]
  },
  {
   "cell_type": "code",
   "execution_count": 14,
   "id": "d1fc49e4",
   "metadata": {},
   "outputs": [
    {
     "name": "stdout",
     "output_type": "stream",
     "text": [
      "7\n",
      "Yes, 7 is Prime\n"
     ]
    }
   ],
   "source": [
    "#11 Find whether given number is prime or not\n",
    "def Prime_Number(n, i=2):\n",
    "    if n == i:\n",
    "        return True\n",
    "    elif n % i == 0:\n",
    "        return False\n",
    "    return Prime_Number(n, i + 1)\n",
    "\n",
    "n =int(input())\n",
    "if Prime_Number(n):\n",
    "    print(\"Yes,\", n, \"is Prime\")\n",
    "else:\n",
    "    print(\"No,\", n, \"is not a Prime\")"
   ]
  },
  {
   "cell_type": "code",
   "execution_count": 18,
   "id": "1797f732",
   "metadata": {},
   "outputs": [
    {
     "name": "stdout",
     "output_type": "stream",
     "text": [
      "2 3 5 7 11 13 17 19 23 29 31 37 41 43 47 53 59 61 67 71 73 79 83 89 97 "
     ]
    }
   ],
   "source": [
    "#12 Find prime numbers between 1 to 100\n",
    "for num in range(1,101):\n",
    "    if num > 1:\n",
    "        for i in range(2, num):\n",
    "            if (num % i) == 0:\n",
    "                break\n",
    "        else:\n",
    "             print(num,end=\" \") "
   ]
  },
  {
   "cell_type": "code",
   "execution_count": 20,
   "id": "7de88b65",
   "metadata": {},
   "outputs": [
    {
     "name": "stdout",
     "output_type": "stream",
     "text": [
      "12 10 9 45 2 10 10 45\n",
      "5\n"
     ]
    }
   ],
   "source": [
    "#13 Count the Distinct Elements in an Array\n",
    "def countDistinct(arr, n):\n",
    "    res = 1\n",
    "    for i in range(1, n):\n",
    "        j = 0\n",
    "        for j in range(i):\n",
    "            if (arr[i] == arr[j]):\n",
    "                break\n",
    "        if (i == j + 1):\n",
    "            res += 1\n",
    "    return res\n",
    " \n",
    "arr = list(map(int,input().split()))\n",
    "n = len(arr)\n",
    "print(countDistinct(arr, n))"
   ]
  },
  {
   "cell_type": "code",
   "execution_count": 21,
   "id": "d3a1b56f",
   "metadata": {},
   "outputs": [
    {
     "name": "stdout",
     "output_type": "stream",
     "text": [
      "bcaabccddaaaa\n",
      "6\n"
     ]
    }
   ],
   "source": [
    "#14 Fid the count of 'a' in given string\n",
    "string=input() \n",
    "count=0 \n",
    "for i in string: \n",
    "    if i==\"a\": \n",
    "        count=count+1 \n",
    "print(count)"
   ]
  },
  {
   "cell_type": "code",
   "execution_count": 23,
   "id": "5d3a8029",
   "metadata": {},
   "outputs": [
    {
     "name": "stdout",
     "output_type": "stream",
     "text": [
      "5\n",
      "        *   \n",
      "      *   *   \n",
      "    *   *   *   \n",
      "  *   *   *   *   \n",
      "*   *   *   *   *   \n"
     ]
    }
   ],
   "source": [
    "#15 print the pyramid pattern in python\n",
    "n=int(input())\n",
    "for i in range(n):\n",
    "    for j in range(n-i-1):\n",
    "        print(\" \",end=\" \")\n",
    "    for i in range(i+1):\n",
    "        print(\"*  \",end=\" \")\n",
    "    print()"
   ]
  },
  {
   "cell_type": "code",
   "execution_count": 24,
   "id": "c7fe10a1",
   "metadata": {},
   "outputs": [
    {
     "name": "stdout",
     "output_type": "stream",
     "text": [
      "Welcome to the world of java programming\n",
      "welcome the java programming \n"
     ]
    }
   ],
   "source": [
    "#16 Find the words in a string which contains 'a' or 'e' in word\n",
    "st=input()\n",
    "st=st.split(\" \")\n",
    "final_st=''\n",
    "for i in st:\n",
    "    string=i.lower()\n",
    "    for j in range(len(string)):\n",
    "        if string[j]=='a' or string[j]=='e':\n",
    "            final_st+=string+' '\n",
    "            break\n",
    "print(final_st)"
   ]
  },
  {
   "cell_type": "code",
   "execution_count": 25,
   "id": "5e35eb2c",
   "metadata": {},
   "outputs": [
    {
     "name": "stdout",
     "output_type": "stream",
     "text": [
      "34 56 7 8 32 90\n",
      "[7, 8, 32, 34, 56, 90]\n"
     ]
    }
   ],
   "source": [
    "#17 Implemet a bubble sort\n",
    "l=list(map(int,input().split()))\n",
    "for i in range(len(l)):\n",
    "    for j in range(0,len(l)-i-1):\n",
    "        if l[j]>l[j+1]:\n",
    "            temp=l[j]\n",
    "            l[j]=l[j+1]\n",
    "            l[j+1]=temp\n",
    "print(l) "
   ]
  },
  {
   "cell_type": "code",
   "execution_count": 26,
   "id": "c05be75d",
   "metadata": {},
   "outputs": [
    {
     "name": "stdout",
     "output_type": "stream",
     "text": [
      "1 7 8 4 5 16 8\n",
      "Even Elements count : \n",
      "4\n",
      "Odd Elements count : \n",
      "3\n"
     ]
    }
   ],
   "source": [
    "#18 count the number of even and add numbers in array\n",
    "arr=list(map(int,input().split()))\n",
    "n = len(arr)\n",
    "countEven = 0\n",
    "countodd = 0\n",
    "for i in range(0, n):\n",
    "    if arr[i]%2==0 :\n",
    "        countEven += 1\n",
    "    else:\n",
    "        countodd += 1\n",
    "\n",
    "print(\"Even Elements count : \" )\n",
    "print(countEven)\n",
    "\n",
    "print(\"Odd Elements count : \")\n",
    "print(countodd)"
   ]
  },
  {
   "cell_type": "code",
   "execution_count": 7,
   "id": "8d367da8",
   "metadata": {},
   "outputs": [
    {
     "name": "stdout",
     "output_type": "stream",
     "text": [
      "8 2 4 6 2 4\n",
      "8 2\n",
      "4 6\n"
     ]
    }
   ],
   "source": [
    "#19 Write a program to print those numbers from array whose sum is 10\n",
    "a=list(map(int,input().split()))\n",
    "for j in range(len(a)-1):\n",
    "    if a[j]+a[j+1]==10:\n",
    "        print(a[j],a[j+1])"
   ]
  },
  {
   "cell_type": "code",
   "execution_count": 13,
   "id": "21b78c8f",
   "metadata": {},
   "outputs": [
    {
     "name": "stdout",
     "output_type": "stream",
     "text": [
      "11111\n",
      "Count of consecutive 1's: 5\n"
     ]
    }
   ],
   "source": [
    "#20 find the count of consecutive 1's \n",
    "#eg inp=1111 out=4\n",
    "def count_consecutive_ones(input_str):\n",
    "    max_count = 0 \n",
    "    current_count = 0 \n",
    "\n",
    "    for char in input_str:\n",
    "        if char == '1':\n",
    "            current_count += 1\n",
    "            max_count = max(max_count, current_count)\n",
    "        else:\n",
    "            current_count = 0\n",
    "\n",
    "    return max_count\n",
    "\n",
    "# Example usage:\n",
    "input_str =input()\n",
    "\n",
    "result = count_consecutive_ones(input_str)\n",
    "print(\"Count of consecutive 1's:\", result)"
   ]
  },
  {
   "cell_type": "code",
   "execution_count": null,
   "id": "d94fb767",
   "metadata": {},
   "outputs": [],
   "source": []
  }
 ],
 "metadata": {
  "kernelspec": {
   "display_name": "Python 3 (ipykernel)",
   "language": "python",
   "name": "python3"
  },
  "language_info": {
   "codemirror_mode": {
    "name": "ipython",
    "version": 3
   },
   "file_extension": ".py",
   "mimetype": "text/x-python",
   "name": "python",
   "nbconvert_exporter": "python",
   "pygments_lexer": "ipython3",
   "version": "3.10.9"
  }
 },
 "nbformat": 4,
 "nbformat_minor": 5
}
